{
  "nbformat": 4,
  "nbformat_minor": 0,
  "metadata": {
    "colab": {
      "provenance": [],
      "gpuType": "T4",
      "include_colab_link": true
    },
    "kernelspec": {
      "name": "python3",
      "display_name": "Python 3"
    },
    "language_info": {
      "name": "python"
    },
    "accelerator": "GPU"
  },
  "cells": [
    {
      "cell_type": "markdown",
      "metadata": {
        "id": "view-in-github",
        "colab_type": "text"
      },
      "source": [
        "<a href=\"https://colab.research.google.com/github/aandrijana/Image-Colorization-Project/blob/main/Test_the_model.ipynb\" target=\"_parent\"><img src=\"https://colab.research.google.com/assets/colab-badge.svg\" alt=\"Open In Colab\"/></a>"
      ]
    },
    {
      "cell_type": "markdown",
      "source": [
        "You can test our trained model yourself! Simply run the following cells and upload any grayscale image to see the colorized result."
      ],
      "metadata": {
        "id": "ip2_4icL1kLX"
      }
    },
    {
      "cell_type": "code",
      "execution_count": null,
      "metadata": {
        "id": "deSCkV7mddn7"
      },
      "outputs": [],
      "source": [
        "!git clone https://github.com/aandrijana/Image-Colorization-Project\n",
        "%cd Image-Colorization-Project\n",
        "!git lfs install\n",
        "!git lfs pull\n",
        "print(\"\\nInstalling dependencies...\")\n",
        "!pip install -r requirements.txt\n",
        "print(\"\\n✅ Setup complete! You are ready for the next step.\")"
      ]
    },
    {
      "cell_type": "code",
      "source": [
        "# ---UPLOAD YOUR IMAGE ---\n",
        "from google.colab import files\n",
        "import os\n",
        "\n",
        "print(\"Please upload your black-and-white test image:\")\n",
        "uploaded = files.upload()\n",
        "input_image_path = list(uploaded.keys())[0]\n",
        "\n",
        "print(f\"\\n✅ Successfully uploaded '{input_image_path}'\")"
      ],
      "metadata": {
        "id": "XzSN-bJOfC4m"
      },
      "execution_count": null,
      "outputs": []
    },
    {
      "cell_type": "code",
      "source": [
        "# --- RUN THE MODEL ---\n",
        "output_image_path = \"colorized_result.png\"\n",
        "\n",
        "print(\"\\nStarting the colorization process...\")\n",
        "!python inference.py \\\n",
        "    --model_path ./final_model/colorizeModel.keras \\\n",
        "    --input_image \"{input_image_path}\" \\\n",
        "    --output_image \"{output_image_path}\""
      ],
      "metadata": {
        "id": "TmdCHRUqfIqB"
      },
      "execution_count": null,
      "outputs": []
    },
    {
      "cell_type": "code",
      "source": [
        "# --- DISPLAY THE RESULT ---\n",
        "import matplotlib.pyplot as plt\n",
        "import matplotlib.image as mpimg\n",
        "import os\n",
        "\n",
        "if os.path.exists(output_image_path):\n",
        "  print(\"\\nDisplaying the colorized result:\")\n",
        "  img = mpimg.imread(output_image_path)\n",
        "  plt.figure(figsize=(10, 10))\n",
        "  plt.imshow(img)\n",
        "  plt.axis('off')\n",
        "  plt.show()\n",
        "else:\n",
        "  print(f\"\\n❌ Error: The output file '{output_image_path}' was not found. Please check for errors in the previous cell.\")"
      ],
      "metadata": {
        "id": "o0BT-pzwfKLP"
      },
      "execution_count": null,
      "outputs": []
    }
  ]
}